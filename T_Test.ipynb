{
  "nbformat": 4,
  "nbformat_minor": 0,
  "metadata": {
    "colab": {
      "provenance": []
    },
    "kernelspec": {
      "name": "python3",
      "display_name": "Python 3"
    },
    "language_info": {
      "name": "python"
    }
  },
  "cells": [
    {
      "cell_type": "code",
      "execution_count": 1,
      "metadata": {
        "colab": {
          "base_uri": "https://localhost:8080/"
        },
        "id": "cwNBr9RraXvy",
        "outputId": "588fa6f5-971d-4dfb-d58c-50c0200bff86"
      },
      "outputs": [
        {
          "output_type": "stream",
          "name": "stdout",
          "text": [
            "Initial Data:\n",
            "<class 'pandas.core.frame.DataFrame'>\n",
            "RangeIndex: 29 entries, 0 to 28\n",
            "Data columns (total 1 columns):\n",
            " #   Column           Non-Null Count  Dtype  \n",
            "---  ------           --------------  -----  \n",
            " 0   Rice_Bag_Weight  29 non-null     float64\n",
            "dtypes: float64(1)\n",
            "memory usage: 364.0 bytes\n",
            "None\n",
            "    Rice_Bag_Weight\n",
            "0              24.5\n",
            "1              24.7\n",
            "2              25.6\n",
            "3              25.0\n",
            "4              24.7\n",
            "5              23.3\n",
            "6              23.3\n",
            "7              24.0\n",
            "8              25.1\n",
            "9              24.3\n",
            "10             23.3\n"
          ]
        }
      ],
      "source": [
        "import pandas as pd\n",
        "import scipy.stats as stats\n",
        "\n",
        "df = pd.read_csv('ricebag.csv')\n",
        "print(\"Initial Data:\")\n",
        "print(df.info())\n",
        "print(df.head(11))"
      ]
    },
    {
      "cell_type": "code",
      "source": [
        "# Assuming the 'Rice Bag' values are in a column named 'Rice_Bag'\n",
        "column_name = 'Rice_Bag_Weight'  # Change if needed\n",
        "\n",
        "# Check if column exists\n",
        "if column_name not in df.columns:\n",
        "    raise ValueError(f\"Column '{column_name}' not found in dataset.\")\n",
        "\n",
        "# Drop NaN values if any\n",
        "df = df.dropna(subset=[column_name])\n",
        "\n",
        "# Hypothesized population mean (change this as needed)\n",
        "population_mean = 25 # Example value\n",
        "\n",
        "# Perform One-Sample t-test\n",
        "t_stat, p_value = stats.ttest_1samp(df[column_name], population_mean)\n",
        "\n",
        "# Display results\n",
        "print(\"\\nOne-Sample t-test Results:\")\n",
        "print(f\"T-Statistic: {t_stat}\")\n",
        "print(f\"P-Value: {p_value}\")\n",
        "\n",
        "# Conclusion based on p-value\n",
        "alpha = 0.05  # Significance level\n",
        "if p_value < alpha:\n",
        "    print(\"Result: Reject the null hypothesis (Significant difference found).\")\n",
        "else:\n",
        "    print(\"Result: Fail to reject the null hypothesis (No significant difference found).\")\n"
      ],
      "metadata": {
        "colab": {
          "base_uri": "https://localhost:8080/"
        },
        "id": "2aoSrhmfbeN7",
        "outputId": "6f102e08-0ccc-421e-823f-96efc974c708"
      },
      "execution_count": 2,
      "outputs": [
        {
          "output_type": "stream",
          "name": "stdout",
          "text": [
            "\n",
            "One-Sample t-test Results:\n",
            "T-Statistic: -5.236976851657697\n",
            "P-Value: 1.4512165732179395e-05\n",
            "Result: Reject the null hypothesis (Significant difference found).\n"
          ]
        }
      ]
    },
    {
      "cell_type": "code",
      "source": [
        "# Statistical Calculations\n",
        "mean_value = df[column_name].mean()\n",
        "median_value = df[column_name].median()\n",
        "mode_value = df[column_name].mode()[0]\n",
        "max_value = df[column_name].max()\n",
        "min_value = df[column_name].min()\n",
        "std_dev = df[column_name].std()\n",
        "std_error = stats.sem(df[column_name])\n",
        "kurtosis_value = stats.kurtosis(df[column_name])\n",
        "skewness_value = stats.skew(df[column_name])\n",
        "range_value = max_value - min_value\n",
        "sum_value = df[column_name].sum()\n",
        "count_value = df[column_name].count()\n",
        "\n",
        "# Display statistical values\n",
        "print(\"\\nDescriptive Statistics:\")\n",
        "print(f\"Mean: {mean_value}\")\n",
        "print(f\"Median: {median_value}\")\n",
        "print(f\"Mode: {mode_value}\")\n",
        "print(f\"Max Value: {max_value}\")\n",
        "print(f\"Min Value: {min_value}\")\n",
        "print(f\"Standard Deviation: {std_dev}\")\n",
        "print(f\"Standard Error: {std_error}\")\n",
        "print(f\"Kurtosis: {kurtosis_value}\")\n",
        "print(f\"Skewness: {skewness_value}\")\n",
        "print(f\"Range: {range_value}\")\n",
        "print(f\"Sum: {sum_value}\")\n",
        "print(f\"Count: {count_value}\")\n",
        "\n",
        "# Hypothesized population mean\n",
        "population_mean = 25  # Updated as per request\n",
        "\n",
        "# Perform One-Sample t-test\n",
        "t_stat, p_value = stats.ttest_1samp(df[column_name], population_mean)\n",
        "\n",
        "# T Critical Value\n",
        "alpha = 0.05\n",
        "degrees_of_freedom = count_value - 1\n",
        "t_critical = stats.t.ppf(1 - alpha / 2, degrees_of_freedom)\n",
        "\n",
        "# Display results\n",
        "print(\"\\nOne-Sample t-test Results:\")\n",
        "print(f\"T-Statistic: {t_stat}\")\n",
        "print(f\"P-Value: {p_value}\")\n",
        "print(f\"T Critical Value: {t_critical}\")\n",
        "\n",
        "# Conclusion based on p-value\n",
        "if p_value < alpha:\n",
        "    print(\"Result: Reject the null hypothesis (Significant difference found).\")\n",
        "else:\n",
        "    print(\"Result: Fail to reject the null hypothesis (No significant difference found).\")"
      ],
      "metadata": {
        "colab": {
          "base_uri": "https://localhost:8080/"
        },
        "id": "0UcLYPDobok3",
        "outputId": "d67291d6-4888-4b6b-8084-71932da487e8"
      },
      "execution_count": 3,
      "outputs": [
        {
          "output_type": "stream",
          "name": "stdout",
          "text": [
            "\n",
            "Descriptive Statistics:\n",
            "Mean: 24.446206896551722\n",
            "Median: 24.5\n",
            "Mode: 24.7\n",
            "Max Value: 25.6\n",
            "Min Value: 23.3\n",
            "Standard Deviation: 0.56946349307988\n",
            "Standard Error: 0.10574671592695357\n",
            "Kurtosis: -0.1784721078672531\n",
            "Skewness: -0.38055508159392537\n",
            "Range: 2.3000000000000007\n",
            "Sum: 708.9399999999999\n",
            "Count: 29\n",
            "\n",
            "One-Sample t-test Results:\n",
            "T-Statistic: -5.236976851657697\n",
            "P-Value: 1.4512165732179395e-05\n",
            "T Critical Value: 2.048407141795244\n",
            "Result: Reject the null hypothesis (Significant difference found).\n"
          ]
        }
      ]
    }
  ]
}